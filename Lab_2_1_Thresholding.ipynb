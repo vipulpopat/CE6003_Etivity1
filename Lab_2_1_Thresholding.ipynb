{
 "cells": [
  {
   "cell_type": "markdown",
   "metadata": {
    "colab_type": "text",
    "id": "OhU-nI19vL-C"
   },
   "source": [
    "#  \"Thresholding\"\n",
    "\n",
    "# Recap\n",
    "\n",
    "This is the Lab on Thresholding for Classical Image Segmention in CE6003.  You should complete the tasks in this lab as part of the Thresholding section of the lesson.\n",
    "\n",
    "Please remember this lab must be completed before taking the quiz at the end of this lesson.\n"
   ]
  },
  {
   "cell_type": "markdown",
   "metadata": {},
   "source": [
    "First, if we haven't already done so, we need to clone the various images and resources needed to run these labs into our workspace."
   ]
  },
  {
   "cell_type": "code",
   "execution_count": null,
   "metadata": {
    "colab": {
     "base_uri": "https://localhost:8080/",
     "height": 35
    },
    "colab_type": "code",
    "id": "vqyWHpV2vP-R",
    "outputId": "d98894ea-49f1-4004-f769-0b048a62f61c"
   },
   "outputs": [],
   "source": [
    "!git clone https://github.com/EmdaloTechnologies/CE6003.git"
   ]
  },
  {
   "cell_type": "markdown",
   "metadata": {
    "colab_type": "text",
    "id": "C3GwZ0YIvL-I"
   },
   "source": [
    "# Introduction\n",
    "\n",
    "In this lab we introduce our first image segmentation project where we will use thresholding operations to segment a relatively simple image. We will work through this project using the types of image processing techniques such projects typically need and then segment an image.  \n",
    "\n",
    "At the end of the lab we'll review the work we've done and assess what types of images and projects this approach is effective for.\n"
   ]
  },
  {
   "cell_type": "markdown",
   "metadata": {
    "colab_type": "text",
    "id": "e71ITlW4vL-J"
   },
   "source": [
    "# Goal\n",
    "\n",
    "In this tutorial we will learn about three key items:\n",
    "* The general image processing algorithms that are required for most image processing projects; e.g. denoising, \n",
    "* Using our first classical segmentation technique on images (thresholding);\n",
    "* How to use Otsu's Method to automatically find a suitable threshold level to segment an image.\n"
   ]
  },
  {
   "cell_type": "markdown",
   "metadata": {
    "colab_type": "text",
    "id": "xpFwcziBvL-L"
   },
   "source": [
    "# Background\n",
    "\n",
    "Image segmentation is the process of partitioning a digital image into multiple segments to make the image easier to analyze.  Often we are looking to locate objects and boundaries in the original image.  \n",
    "\n",
    "A more precise way of looking at it is to say that image segmentation's goal is to assign a label to every pixel in an image such that pixels with the same label share certain characteristics.  \n",
    "\n",
    "For example, these images show a typical road scene on the left and a segmented version of the image on the right where the cars have been separated from the road, the buildings, the people in the scene, etc.\n",
    "\n",
    "<p float=\"center\">\n",
    "  <img src=\"https://github.com/EmdaloTechnologies/CE6003/blob/master/images/lab2/bg-road.png?raw=1\" width=\"450\" />\n",
    "</p>\n"
   ]
  },
  {
   "cell_type": "markdown",
   "metadata": {
    "colab_type": "text",
    "id": "YkOom-wCvL-M"
   },
   "source": [
    "# Our First Segmenter\n",
    "\n",
    "So, now that we've seen what is possible, let's start by solving our first segmentation problem.\n",
    "\n",
    "Let's look at this image of a starfish.  Let's examine it in its original color, in grayscale and in black and white.\n",
    "\n",
    "Colour                            |  Grayscale                           |  Black & White\n",
    ":--------------------------------:|:------------------------------------:|:---------------------------:\n",
    "![](https://github.com/EmdaloTechnologies/CE6003/blob/master/images/lab2/starfish_resize.png?raw=1)   | ![](https://github.com/EmdaloTechnologies/CE6003/blob/master/images/lab2/starfish_grey_resize.png?raw=1) | ![](https://github.com/EmdaloTechnologies/CE6003/blob/master/images/lab2/starfish_bw_resize.png?raw=1)\n",
    "\n",
    "We are searching these images for clues as to how we might be able to segment them into two regions - the 'starfish' region and the 'not starfish' region.\n",
    "\n",
    "It turns out we can segment this image into a region approximating the starfish and a background region (the 'not starfish; region) using thresholding, along with general purpose image processing techniques such as denoising, morphological operations, and some contour detection and drawing.  Finally, once we've established a boundary for the starfish, we can fill our starfish shape. After that we'll use some bitwise operations to overlay our segmented image over the original image."
   ]
  },
  {
   "cell_type": "markdown",
   "metadata": {
    "colab_type": "text",
    "id": "xFfP1H5DvL-N"
   },
   "source": [
    "First, lets use OpenCV's fastN1MeansDenoisingColored routine to denoise the image.  We're using a larger 'h' and 'hColor' value than typically used as the image is more noisy than images typically used with these technique.  (This should make more sense as we go forward into the CNN segmentation examples)."
   ]
  },
  {
   "cell_type": "code",
   "execution_count": null,
   "metadata": {
    "colab": {
     "base_uri": "https://localhost:8080/",
     "height": 287
    },
    "colab_type": "code",
    "id": "HmFJR_abvL-Q",
    "outputId": "0c7cd524-37e1-4ce6-9da2-9dbc2a47fbae"
   },
   "outputs": [],
   "source": [
    "# First import OpenCV, NumPY and MatPlotLib as we will use these libraries\n",
    "import cv2\n",
    "import numpy as np\n",
    "import matplotlib.pyplot as plt\n",
    "\n",
    "%matplotlib inline\n",
    "\n",
    "# Load a color image\n",
    "img = cv2.imread(\"/content/CE6003/images/lab2/starfish.png\")\n",
    "\n",
    "# Apply some blurring to reduce noise\n",
    "\n",
    "# h is the Parameter regulating filter strength for luminance component. \n",
    "# Bigger h value perfectly removes noise but also removes image details, \n",
    "# smaller h value preserves details but also preserves some noise\n",
    "\n",
    "# Hint: I recommend using larger h and hColor values than typical to remove noise at the\n",
    "# expense of losing image details\n",
    "\n",
    "# YOUR CODE HERE\n",
    "# Experiment with setting h and hColor to a suitable value.\n",
    "# Exercise: Insert code here to set values for h and hColor. \n",
    "# END YOUR CODE HERE\n",
    "\n",
    "# Default values\n",
    "templateWindowSize = 7\n",
    "searchWindowSize = 21\n",
    "    \n",
    "blur = cv2.fastNlMeansDenoisingColored(img, None, h, hColor,templateWindowSize,searchWindowSize)\n",
    "    \n",
    "plt.imshow(cv2.cvtColor(blur, cv2.COLOR_BGR2RGB))\n"
   ]
  },
  {
   "cell_type": "markdown",
   "metadata": {
    "colab_type": "text",
    "id": "2-FMpR8IvL-z"
   },
   "source": [
    "After applying the fastN1MeansDenoisingColored routine above, you should end up with an image similar to the one on the right here.  You may need to vary the h and hColor parameters to observe the effect of changing them on the blurred image.\n",
    "\n",
    "Your blurred image should look like this one.\n",
    "\n",
    "<img src=\"https://github.com/EmdaloTechnologies/CE6003/blob/master/images/lab2/starfish_blur.png?raw=1\" alt=\"Blurred Starfish\" align=\"left\" style=\"width: 300px;\"/>\n"
   ]
  },
  {
   "cell_type": "markdown",
   "metadata": {
    "colab_type": "text",
    "id": "CF7VbKNnvL-1"
   },
   "source": [
    "Now, lets run a morphological operation on the blurred image.  \n",
    "\n",
    "For this example, we are going to generate a gradient.  \n",
    "\n",
    "This builds on dilation and erosion.  You can read more about erosion and dilation \n",
    "in the 'Basics' section of Lesson 2.\n",
    "\n",
    "Today we are going to use them to generate an outline for our starfish.\n",
    "\n",
    "\n",
    "# Edge Detection\n",
    "Instead of using a gradient, you could use an edge detection such as Sobol, Laplacian and Canny here in combination with adjusting the image denoising step above.  I'll leave those as an exercise for the reader for now!"
   ]
  },
  {
   "cell_type": "code",
   "execution_count": null,
   "metadata": {
    "colab": {
     "base_uri": "https://localhost:8080/",
     "height": 287
    },
    "colab_type": "code",
    "id": "6DBY7sOXvL-2",
    "outputId": "669dab3e-2935-4468-8bc5-ef5ab0b932b6"
   },
   "outputs": [],
   "source": [
    "# Apply a morphological gradient (dilate the image, erode the image, and take the difference\n",
    "\n",
    "elKernel = cv2.getStructuringElement(cv2.MORPH_ELLIPSE, (13,13))\n",
    "\n",
    "# YOUR CODE HERE\n",
    "# Exercise: Use openCV's morphologyEx to generate a gradient using the kernel above\n",
    "# END YOUR CODE HERE\n",
    "\n",
    "plt.imshow(cv2.cvtColor(gradient, cv2.COLOR_BGR2RGB))"
   ]
  },
  {
   "cell_type": "markdown",
   "metadata": {
    "colab_type": "text",
    "id": "t9Ce0qNWvL-5"
   },
   "source": [
    "After applying the gradient morphology routine above, you should end up with an image similar to the one shown here.  The outline of the starfish should be starting to emerge at this point.\n",
    "    \n",
    "<img src=\"https://github.com/EmdaloTechnologies/CE6003/blob/master/images/lab2/starfish_grad.png?raw=1\" alt=\"Gradient Starfish\" align=\"left\" style=\"width: 300px;\"/>\n",
    "\n"
   ]
  },
  {
   "cell_type": "markdown",
   "metadata": {
    "colab_type": "text",
    "id": "Yi3GVwHnvL-6"
   },
   "source": [
    "We now have completed the pre-processing of our image. \n",
    "\n",
    "From this point onwards, we are concerning ourselves with:\n",
    "\n",
    "a) filling the region of interest, and\n",
    "\n",
    "b) removing artefacts from the image which we are not interested in.\n",
    "\n",
    "There are quite a few approaches we can take to this (including not doing them at all), but today lets apply OTSU's threshold to convert the image to black and white, and perform a closing operation to 'fill in' the starfish and then perform some erosion to remove parts of the image that we consider noise.\n",
    "\n",
    "## OTSU Thresholding\n",
    "When converting from a grayscale image to a black and white image, selecting a good threshold value can be a time-consuming and manual process.  There are a number of automatic thresholding techniques available - and Otsu's method thresholding is one of the better known techniques.\n",
    "\n",
    "Conceptually simple, and relatively low cost computationally, Otsu's threshold iterate through all the possible threshold values to find the threshold value where the sum of foreground and background spreads is at its minimum. \n"
   ]
  },
  {
   "cell_type": "code",
   "execution_count": null,
   "metadata": {
    "colab": {},
    "colab_type": "code",
    "id": "QhmwaGU-vL-7"
   },
   "outputs": [],
   "source": [
    "# Apply Otsu's method - or you can adjust the level at which thresholding occurs\n",
    "# and see what the effect of this is\n",
    "\n",
    "# Convert gradient to grayscale\n",
    "gradient = cv2.cvtColor(gradient, cv2.COLOR_BGR2GRAY)\n",
    "\n",
    "\n",
    "# YOUR CODE HERE\n",
    "# Exercise: Generate a matrix called otsu using OpenCV's threshold() function.  Use\n",
    "# Otsu's method.\n",
    "# END YOUR CODE HERE\n",
    "\n",
    "       \n",
    "# Apply a closing operation - we're using a large kernel here. By all means adjust the size of this kernel\n",
    "# and observe the effects\n",
    "closingKernel = cv2.getStructuringElement(cv2.MORPH_ELLIPSE, (33,33))\n",
    "close = cv2.morphologyEx(otsu, cv2.MORPH_CLOSE, closingKernel)\n",
    "    "
   ]
  },
  {
   "cell_type": "code",
   "execution_count": null,
   "metadata": {
    "colab": {
     "base_uri": "https://localhost:8080/",
     "height": 287
    },
    "colab_type": "code",
    "id": "XRZTPO4QvL--",
    "outputId": "59a13cad-a6c1-49bd-82c6-cc5cf3ae55ef"
   },
   "outputs": [],
   "source": [
    "# Erode smaller artefacts out of the image - play with iterations to see how it works\n",
    "    \n",
    "# YOUR CODE HERE\n",
    "# Exercise: Generate a matrix called eroded using cv2.erode() function over the 'close' matrix.\n",
    "# Experiment until your output image is similar to the image below\n",
    "# END YOUR CODE HERE\n",
    "\n",
    "plt.imshow(eroded, cmap='gray')"
   ]
  },
  {
   "cell_type": "markdown",
   "metadata": {
    "colab_type": "text",
    "id": "x6cnWlD2vL_C"
   },
   "source": [
    "After switching to black and white and applying our closing and erosion operations, our simplified starfish is starting to emerge\n",
    "    \n",
    "Original Image            | B&W Image                      | After Closing                   | After Erosion\n",
    ":------------------------:|:------------------------------:|:-------------------------------:|:--------------\n",
    "![](https://github.com/EmdaloTechnologies/CE6003/blob/master/images/lab2/starfish.png?raw=1)  | ![](https://github.com/EmdaloTechnologies/CE6003/blob/master/images/lab2/starfish_otsu.png?raw=1)  | ![](https://github.com/EmdaloTechnologies/CE6003/blob/master/images/lab2/starfish_closed.png?raw=1) | ![](https://github.com/EmdaloTechnologies/CE6003/blob/master/images/lab2/starfish_eroded.png?raw=1)\n"
   ]
  },
  {
   "cell_type": "markdown",
   "metadata": {
    "colab_type": "text",
    "id": "tltXf8U2vL_D"
   },
   "source": [
    "So, now we've effectively segmented our image. \n",
    "\n",
    "Now, let's post-process the image to find the contours that represent the edge of the starfish.  We'll just use the intuition that the starfish is the largest object in the scene.\n",
    "\n",
    "Then we'lll do a little image manipulation to generate a colour representing the starfish, another colour representing the background (i.e. not the starfish) and then merge those colours with the original image.\n",
    "\n",
    "You'll notice the closing and erosion steps are not perfect - they're not supposed to be.  They are good enough to feed into the findContours routine.  By all means, tune them further to get better quality input into findContours.\n",
    "\n",
    "In the findContours routine we're using cv2.RETR_EXTERNAL.  This is to reduce the complexity of post-processing by only reporting 'external' contours (i.e. we'll attempt to suppress contours that are inside other contours)."
   ]
  },
  {
   "cell_type": "code",
   "execution_count": null,
   "metadata": {
    "colab": {},
    "colab_type": "code",
    "id": "uIEVR7XmvL_E"
   },
   "outputs": [],
   "source": [
    "p = int(img.shape[1] * 0.05)\n",
    "eroded[:, 0:p] = 0\n",
    "eroded[:, img.shape[1] - p:] = 0\n"
   ]
  },
  {
   "cell_type": "code",
   "execution_count": null,
   "metadata": {
    "colab": {},
    "colab_type": "code",
    "id": "X-D82tpkvL_H"
   },
   "outputs": [],
   "source": [
    "# YOUR CODE HERE\n",
    "# Exercise: Find the contours - just external contours to keep post-processing simple\n",
    "# END YOUR CODE HERE"
   ]
  },
  {
   "cell_type": "code",
   "execution_count": null,
   "metadata": {
    "colab": {
     "base_uri": "https://localhost:8080/",
     "height": 287
    },
    "colab_type": "code",
    "id": "IfEKpATUvL_J",
    "outputId": "df7826a1-6db7-4b6c-9506-00611917635e"
   },
   "outputs": [],
   "source": [
    "\n",
    "\n",
    "# Sort the candidates by size, and just keep the largest one\n",
    "contours = sorted(contours, key=cv2.contourArea, reverse=True)[:1]\n",
    "\n",
    "# Lets create two images, initially all zeros (i.e. black)\n",
    "# One image will be filled with 'Blue' wherever we think there's some starfish\n",
    "# The other image will be filled with 'Green' whereever we think there's not some starfish\n",
    "h, w, num_c = img.shape\n",
    "segmask = np.zeros((h, w, num_c), np.uint8)\n",
    "stencil = np.zeros((h, w, num_c), np.uint8)\n",
    "\n",
    "# I know we've only one contour, but - in general - we'd expect to have more contours to deal with\n",
    "for c in contours:\n",
    "    # Fill in the starfish shape into segmask\n",
    "    cv2.drawContours(segmask, [c], 0, (255, 0, 0), -1)\n",
    "    # Lets fill in the starfish shape into stencil as well\n",
    "    # and then re-arrange the colors using numpy\n",
    "    cv2.drawContours(stencil, [c], 0, (255, 0, 0), -1)\n",
    "    stencil[np.where((stencil==[0,0,0]).all(axis=2))] = [0, 255, 0]\n",
    "    stencil[np.where((stencil==[255,0,0]).all(axis=2))] = [0, 0, 0]\n",
    "\n",
    "# Now, lets create a mask image by bitwise ORring segmask and stencil together\n",
    "mask = cv2.bitwise_or(stencil, segmask)\n",
    "\n",
    "plt.imshow(cv2.cvtColor(mask, cv2.COLOR_BGR2RGB))"
   ]
  },
  {
   "cell_type": "markdown",
   "metadata": {
    "colab_type": "text",
    "id": "-zVcfYB6vL_M"
   },
   "source": [
    "You should have generated a reasonable mask representing our image as having two parts - a 'starfish' and 'not a starfish'.  It should look like the final mask in the image below.\n",
    "    \n",
    "Starfish Mask                    | Not Starfish Mask                | Final Mask\n",
    ":-------------------------------:|:--------------------------------:|:-------------------------------\n",
    "![](https://github.com/EmdaloTechnologies/CE6003/blob/master/images/lab2/starfish_segmask.png?raw=1) | ![](https://github.com/EmdaloTechnologies/CE6003/blob/master/images/lab2/starfish_stencil.png?raw=1) | ![](https://github.com/EmdaloTechnologies/CE6003/blob/master/images/lab2/starfish_mask.png?raw=1)\n"
   ]
  },
  {
   "cell_type": "code",
   "execution_count": null,
   "metadata": {
    "colab": {},
    "colab_type": "code",
    "id": "OabSOS5FvL_N"
   },
   "outputs": [],
   "source": [
    "# Now, lets just blend our original image with our mask\n",
    "\n",
    "# YOUR CODE HERE\n",
    "# Exercise: Blend the original image 'img' and our mask 'mask'\n",
    "# in any way you see fit, and store it in a variable called output\n",
    "# Hint: You'll find answers at the bottom of the lab. \n",
    "output = cv2.bitwise_or(mask, img)\n",
    "# END YOUR CODE HERE"
   ]
  },
  {
   "cell_type": "code",
   "execution_count": null,
   "metadata": {
    "colab": {
     "base_uri": "https://localhost:8080/",
     "height": 287
    },
    "colab_type": "code",
    "id": "aTfbR_9evL_P",
    "outputId": "df3821a8-eebd-4033-b73c-b84ae1331baf"
   },
   "outputs": [],
   "source": [
    "plt.imshow(cv2.cvtColor(output, cv2.COLOR_BGR2RGB))"
   ]
  },
  {
   "cell_type": "markdown",
   "metadata": {
    "colab_type": "text",
    "id": "ZiB86MQsvL_T"
   },
   "source": [
    "After you blend the original image with your mask you should see an image similar to the image shown here.\n",
    "\n",
    "<img src=\"https://github.com/EmdaloTechnologies/CE6003/blob/master/images/lab2/starfish_segmented.png?raw=1\" alt=\"Segmented Starfish\" align=\"left\" style=\"width: 300px;\"/>\n",
    "\n"
   ]
  },
  {
   "cell_type": "markdown",
   "metadata": {
    "colab_type": "text",
    "id": "WHrmOYqivL_V"
   },
   "source": [
    "# Conclusion\n",
    "\n",
    "So, that completes the first of the four labs to this module.  \n",
    "\n",
    "To summarise , we''ve learned some basic image processing techniques, such as morphological operations like erosion and dilation, contour detection and we've used these techniques in combination with Otsu's thresholding method to segment an image.\n"
   ]
  }
 ],
 "metadata": {
  "colab": {
   "name": "Lab2_1_Thresholding.ipynb",
   "provenance": []
  },
  "kernelspec": {
   "display_name": "Python 3",
   "language": "python",
   "name": "python3"
  },
  "language_info": {
   "codemirror_mode": {
    "name": "ipython",
    "version": 3
   },
   "file_extension": ".py",
   "mimetype": "text/x-python",
   "name": "python",
   "nbconvert_exporter": "python",
   "pygments_lexer": "ipython3",
   "version": "3.6.8"
  }
 },
 "nbformat": 4,
 "nbformat_minor": 1
}
