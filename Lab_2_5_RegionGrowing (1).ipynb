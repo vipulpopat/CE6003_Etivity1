{
  "nbformat": 4,
  "nbformat_minor": 0,
  "metadata": {
    "kernelspec": {
      "display_name": "Python 3",
      "language": "python",
      "name": "python3"
    },
    "language_info": {
      "codemirror_mode": {
        "name": "ipython",
        "version": 3
      },
      "file_extension": ".py",
      "mimetype": "text/x-python",
      "name": "python",
      "nbconvert_exporter": "python",
      "pygments_lexer": "ipython3",
      "version": "3.6.8"
    },
    "colab": {
      "name": "Lab_2_5_RegionGrowing.ipynb",
      "provenance": []
    }
  },
  "cells": [
    {
      "cell_type": "markdown",
      "metadata": {
        "id": "-UQhgOkue2eK",
        "colab_type": "text"
      },
      "source": [
        "#  \"Region Growing\" and \"Superpixels\"\n",
        "\n",
        "\n",
        "# Recap\n",
        "\n",
        "This is the Lab on Region Growing and Superpixels for Classical Image Segmention in CE6003. You should complete the tasks in this lab as part of the Region Growing section of the lesson.\n",
        "\n",
        "Please remember this lab must be completed before taking the quiz at the end of this lesson.\n"
      ]
    },
    {
      "cell_type": "markdown",
      "metadata": {
        "id": "6a1CKePZe2eP",
        "colab_type": "text"
      },
      "source": [
        "First, if we haven't already done so, we need to clone the various images and resources needed to run these labs into our workspace."
      ]
    },
    {
      "cell_type": "code",
      "metadata": {
        "id": "dHFhVJyEe2eR",
        "colab_type": "code",
        "colab": {
          "base_uri": "https://localhost:8080/",
          "height": 34
        },
        "outputId": "70e3e122-93c1-4313-9197-ca642f4d2653"
      },
      "source": [
        "!git clone https://github.com/EmdaloTechnologies/CE6003.git"
      ],
      "execution_count": 11,
      "outputs": [
        {
          "output_type": "stream",
          "text": [
            "fatal: destination path 'CE6003' already exists and is not an empty directory.\n"
          ],
          "name": "stdout"
        }
      ]
    },
    {
      "cell_type": "markdown",
      "metadata": {
        "id": "Z22PAxc4e2eX",
        "colab_type": "text"
      },
      "source": [
        "# Introduction\n",
        "\n",
        "In this lab you will complete your third image segmentation project where you will use the watershed algorithm to segment a relatively complex image containing objects which are touching each other. \n",
        "\n",
        "You will also complete a short super-pixel based segmentation example.\n",
        "\n",
        "Please work through these projects using the image processing techniques from the previous labs and then segment the example images, once using watershed and once using super-pixels.\n",
        "\n",
        "At the end of the lab we'll review the work we've done and assess what types of images and projects these approaches are effective for.\n"
      ]
    },
    {
      "cell_type": "markdown",
      "metadata": {
        "id": "fV_zMeEve2eZ",
        "colab_type": "text"
      },
      "source": [
        "# Goal\n",
        "\n",
        "In this lab, you will: \n",
        "* learn about one introductary 'region growing' image segmentation techique - 'watershed';\n",
        "* revise deblurring, thresholding, dilation, opening, and the distance transformation;\n",
        "* use cv2.watershed() to segment an image;\n",
        "* gain an insight into superpixels.  This is a very important topic in neural network based image processing!\n",
        "* segment the tomatoes image into superpixels\n",
        "* use the SLIC algorithm"
      ]
    },
    {
      "cell_type": "markdown",
      "metadata": {
        "id": "46r19ZNae2ea",
        "colab_type": "text"
      },
      "source": [
        "# Background\n",
        "\n",
        "Image segmentation is the process of partitioning a digital image into multiple segments to make the image easier to analyze.  Often we are looking to locate objects and boundaries in the original image.  Another way of looking at it is image segmentation's goal is to assign a label to every pixel in an image such that pixels with the same label share certain characteristics.  Like many elements of computer vision, I find an example is often more useful than precise text.\n",
        "\n",
        "For example, these images show a typical road scene on the left and a segmented version of the image on the right.\n",
        "\n",
        "<p float=\"center\">\n",
        "  <img src=\"https://github.com/EmdaloTechnologies/CE6003/blob/master/images/lab2/bg-road.png?raw=1\" width=\"450\" />\n",
        "</p>\n"
      ]
    },
    {
      "cell_type": "markdown",
      "metadata": {
        "id": "Ev7-5o_ye2ec",
        "colab_type": "text"
      },
      "source": [
        "# Region Growing - 'Watershed'\n",
        "\n",
        "The simplest image segmentation techniques, like the thresholding we used in Lab 1, start to show their limitations pretty quickly - requirements like segmenting beyond two objects, touching objects or overlapping objects, etc quickly lead us to techniques such as Watershed,\n",
        "\n",
        "'Watershed' is a (mostly) unsuperised algorithm used to isolate portions of an image from each other - in\n",
        "effect image segmentation.  Its worth noting, however, that - similar to most classical image processing 'watershed' works by identifying elements of the image such as color intensity. i.e. 'watershed' has no semantic understanding of the contents of the image.\n",
        "\n",
        "The watershed algorithm is useful for segmentation and is relatively strong at detecting touching or overlapping objects in images such as the image of tomatoes below.\n",
        "\n",
        "<img src=\"https://github.com/EmdaloTechnologies/CE6003/blob/master/images/lab2/tomatoes.png?raw=1\" alt=\"Tomatoes\" style=\"width: 200px;\"/>\n",
        "\n",
        "So to summarise, algorithms like 'watershed' have applications where simpler methods such as thresholding and contour detection fail. \n",
        "\n"
      ]
    },
    {
      "cell_type": "markdown",
      "metadata": {
        "id": "Gvx-B6DWe2ed",
        "colab_type": "text"
      },
      "source": [
        "# Theory behind Watershed\n",
        "\n",
        "After converting an image to greyscale, we can imagine that greyscale image as being a topographic surface (a height map) where high intensity denotes 'hills' and low intensity denotes 'valleys'.  Conceptually, we start by assigning every isolated 'valley' with different colour liquid.  These correspond to our labels.  As the liquids rise, the various liquids from different valleys start to merge.  We want to avoid these mergers.  To avoid mergers, we build barriers at the merger locations.  We continue to fill the liquids until all the hills are under liquid.  \n",
        "\n",
        "We can visually grasp the concept using the simple square image on the left and its topographic representation on the right.  We can imagine filling the topographic representation of our square with two liquids, one inside the square and one outside the square.  As each liquid meets each other we create a 'watershed', and we can imagine this representing the square.\n",
        "\n",
        "Original                 | Topography            \n",
        ":-----------------------:|:--------------------------------:\n",
        "<img src=\"https://github.com/EmdaloTechnologies/CE6003/blob/master/images/lab2/simple_square.png?raw=1\" alt=\"Simple Square\" style=\"width: 200px;\"/> | <img src=\"https://github.com/EmdaloTechnologies/CE6003/blob/master/images/lab2/simple_square_topography.png?raw=1\" alt=\"Simple Square Topography\" style=\"width: 200px;\"/>\n",
        "\n",
        "\n",
        "Similarly, we can imagine the tomatoes below on the left, being transformed into a 3d shape being filled with a liquid until the individual tomatoes emerge.\n",
        "\n",
        "Original                 | Topography            \n",
        ":-----------------------:|:--------------------------------:\n",
        "<img src=\"https://github.com/EmdaloTechnologies/CE6003/blob/master/images/lab2/tomatoes.png?raw=1\" alt=\"Tomatoes\" style=\"width: 200px;\"/> | <img src=\"https://github.com/EmdaloTechnologies/CE6003/blob/master/images/lab2/tomatoes_topography.png?raw=1\" alt=\"Tomatoes Topography\" style=\"width: 200px;\"/>\n",
        "\n",
        "## Watershed in Practice\n",
        "\n",
        "The watershed algorithm tends to give us over-segmented results due to noise etc in the image.  So its typical to simplify the image before sending it to the Watershed algorithm, and as you'll see below, there's almost invariably a denoising step.\n",
        "\n",
        "\n",
        "## OpenCV Watershed\n",
        "\n",
        "A big improvement of the watershed transformation consists of flooding the topographic surface from a previously defined set of markers. This effectively automates the process of starting the watershed algorithm off by giving\n",
        "it hints where to start filling from.\n",
        "\n",
        "The OpenCV watershed algorithm has two parameters, the image being worked on and a second image.\n",
        "This second image contains 'markers'. These markers must be 'user-defined'.  \n",
        "\n",
        "We won't manually define them (e.g. using point-and-click; instead we'll heuristically define them instead using thresholding and/or morphological operations.\n",
        "\n",
        "Then we'll apply the watershed algorithm to our image using that marker."
      ]
    },
    {
      "cell_type": "markdown",
      "metadata": {
        "id": "Fm0mybN5e2ee",
        "colab_type": "text"
      },
      "source": [
        "# Our Technique\n",
        "In this technique, we will see how to use the Distance Transformation along with the watershed algorithm to segment some objects.\n",
        "\n",
        "Let''s remind ourselves of our image of tomatoes.  As you can see, this is an image where several of the objects are touching or overlapping.  We could tune the thresholding algorithm we used in Lab 1 or the clustering algorithm we used in Lab 2 to detect multiple objects and segment the image into those objects but its likely that they will be unable to distinguish between the two red tomatoes on the left hand side of the image as we look at it.\n",
        "\n",
        "<img src=\"https://github.com/EmdaloTechnologies/CE6003/blob/master/images/lab2/tomatoes.png?raw=1\" alt=\"Tomatoes\" style=\"width: 300px;\"/>\n",
        "\n",
        "Instead, we'll start by preparing the image such that the OpenCV 'waterfall' can operate on this image.  \n",
        "\n",
        "Our overall goal here is to construct a 'marker' image for OpenCV's 'waterfall' routine.  The marker area is, effectively, an initial area of the image which guides the 'waterfall' algorithm to help with over-segmenting.\n",
        "\n",
        "Initially we will create an object mask, a background mask and then subtract one from the other to create a mask of the 'unknown' part of the image.\n",
        "\n",
        " So, in this example, we will 'semi-automate' the process of providing marker to watershed algo\n",
        " 1. decide what is clearly background\n",
        " 2. decide what is clearly foreground\n",
        " 3. create a region that's neither clearly background nor foreground\n",
        " 4. set up 'marker' around this area\n",
        " 5. hand that off to watermark"
      ]
    },
    {
      "cell_type": "markdown",
      "metadata": {
        "id": "uFKiV8Yte2eg",
        "colab_type": "text"
      },
      "source": [
        "We start by converting the tomatoes image to greyscale, applying a little Gaussian blur and then using a relatively high threshold to to simplify the image.\n"
      ]
    },
    {
      "cell_type": "code",
      "metadata": {
        "id": "fcZlvOn3e2eh",
        "colab_type": "code",
        "colab": {}
      },
      "source": [
        "# Similar to previous labs, we're going to use OpenCV, NumPY and MatPlotLib\n",
        "# so import them here\n",
        "import cv2\n",
        "import numpy as np\n",
        "import matplotlib.pyplot as plt\n",
        "%matplotlib inline\n",
        "\n",
        "# Load an image\n",
        "img = cv2.imread(\"/content/CE6003/images/lab2/tomatoes.png\")"
      ],
      "execution_count": 0,
      "outputs": []
    },
    {
      "cell_type": "code",
      "metadata": {
        "id": "r5UrJCrqe2er",
        "colab_type": "code",
        "colab": {}
      },
      "source": [
        "# YOUR CODE GOES HERE\n",
        "# The degree of blurring is strongly coupled with the performance of the watershed.  \n",
        "# It can be quite interesting to experiment with adjusting the amount of blurring.\n",
        "# Exercise: Try using cv2.GaussianBlur() until your image is satisfactory.\n",
        "# You have a reference image below to help you if you want it.\n",
        "# Store the output from cv2.GaussianBlur() in a variable called blur\n",
        "blur =  cv2.GaussianBlur(img,(53,53),0)\n",
        "#error if even number used for kernel size\n",
        "# END YOUR CODE HERE"
      ],
      "execution_count": 0,
      "outputs": []
    },
    {
      "cell_type": "code",
      "metadata": {
        "id": "4ZyFOEWme2eu",
        "colab_type": "code",
        "colab": {
          "base_uri": "https://localhost:8080/",
          "height": 286
        },
        "outputId": "5018537d-9f46-42c3-efc2-345f9307889e"
      },
      "source": [
        "# Convert to grayscale so we can threshold it\n",
        "gray = cv2.cvtColor(blur, cv2.COLOR_BGR2GRAY)\n",
        "\n",
        "plt.imshow(gray, cmap='gray')"
      ],
      "execution_count": 31,
      "outputs": [
        {
          "output_type": "execute_result",
          "data": {
            "text/plain": [
              "<matplotlib.image.AxesImage at 0x7f60e921f940>"
            ]
          },
          "metadata": {
            "tags": []
          },
          "execution_count": 31
        },
        {
          "output_type": "display_data",
          "data": {
            "image/png": "[encoded data removed]",
            "text/plain": [
              "<Figure size 432x288 with 1 Axes>"
            ]
          },
          "metadata": {
            "tags": []
          }
        }
      ]
    },
    {
      "cell_type": "markdown",
      "metadata": {
        "id": "eXDiq9UYe2ex",
        "colab_type": "text"
      },
      "source": [
        "So, after these operations, you should be starting to see the tomatoes emerge from the background.  \n",
        "\n",
        "Your blurred grayscale image should be similar to the image here.\n",
        "\n",
        "<img src=\"https://github.com/EmdaloTechnologies/CE6003/blob/master/images/lab2/tomatoes_grayscale.png?raw=1\" alt=\"Segmented Starfish\" align=\"left\" style=\"width: 300px;\"/>\n",
        "\n",
        "\n"
      ]
    },
    {
      "cell_type": "code",
      "metadata": {
        "id": "v8brj0Rte2ey",
        "colab_type": "code",
        "colab": {}
      },
      "source": [
        "# YOUR CODE GOES HERE\n",
        "# Experiment: So, create a matrix thresh which is thresholded by OpenCV's threshold() operation.\n",
        "# HINT: I did not using OTSU here as I got better results from \n",
        "# weighting the threshold high. You can experiment here with thresholding to \n",
        "# improve on the final segmentation.\n",
        "#\n",
        "# Use the method cv2.threshold() which returns two values. The second value is the\n",
        "# value you are interested in, you can ignore the first for now...\n",
        "#\n",
        "# Store the value in a variable called thres\n",
        "ret,thresh = cv2.threshold(gray,190,255,cv2.THRESH_BINARY_INV)\n",
        "# END YOUR CODE GOES HERE\n",
        "#OBSERVATIONS - NEEDED TO USE THRESH_BINARY_INV METHOD TO REPLICATE THE SAMPLE PHOTOGRAPH - THRESH_BINARY HAD FOREGROUND AND BACKGROUND THE OTHER WAY AROUND\n",
        "#THE HIGHER THE LOWER THRESHOLD PIXEL VALUE THE MORE BLENDED THE BUNCH OF TOMATOES SO BUT THE LOWER IT WAS THE LESS DEFINED THE TOMATOES BECOME"
      ],
      "execution_count": 0,
      "outputs": []
    },
    {
      "cell_type": "code",
      "metadata": {
        "id": "hnJxt0qNe2e2",
        "colab_type": "code",
        "colab": {
          "base_uri": "https://localhost:8080/",
          "height": 286
        },
        "outputId": "43c484c5-e479-48aa-dc57-e97c08c9c6ff"
      },
      "source": [
        "plt.imshow(thresh, cmap='gray')"
      ],
      "execution_count": 56,
      "outputs": [
        {
          "output_type": "execute_result",
          "data": {
            "text/plain": [
              "<matplotlib.image.AxesImage at 0x7f60e8e952b0>"
            ]
          },
          "metadata": {
            "tags": []
          },
          "execution_count": 56
        },
        {
          "output_type": "display_data",
          "data": {
            "image/png": "[encoded data removed]",
            "text/plain": [
              "<Figure size 432x288 with 1 Axes>"
            ]
          },
          "metadata": {
            "tags": []
          }
        }
      ]
    },
    {
      "cell_type": "markdown",
      "metadata": {
        "id": "Ed_lMvoIe2e5",
        "colab_type": "text"
      },
      "source": [
        "Now, you should have a matrix (or image if you prefer) which is similar to this image.\n",
        "\n",
        "After these operations, we're starting to see the tomatoes emerge from the background.  Note in this example that, its a little more complex than the starfish example, in that the objects of interest are touching and/or overlapping.\n",
        "\n",
        "<img src=\"https://github.com/EmdaloTechnologies/CE6003/blob/master/images/lab2/tomatoes_thresh.png?raw=1\" alt=\"Tomatoes B&W\" align=\"left\" style=\"width: 300px;\"/>\n"
      ]
    },
    {
      "cell_type": "markdown",
      "metadata": {
        "id": "P-k0508fe2e6",
        "colab_type": "text"
      },
      "source": [
        "# Prepare the marker image\n",
        "\n",
        "Now you need to prepare the foreground, background, and unknown regions of the image to create a marker for OpenCV's watershed().\n",
        "\n",
        "At this stage, we can start preparing the foreground, background, and 'unknown' regions of the image.  For this image, I used a closing morphological operation followed by a dilation to generate the background image and I used a distance transform to generate the foreground image.  Finally, I subtracted those two images from each other to generate the unknown area of the image."
      ]
    },
    {
      "cell_type": "code",
      "metadata": {
        "id": "LuFbJGoYe2e8",
        "colab_type": "code",
        "colab": {
          "base_uri": "https://localhost:8080/",
          "height": 286
        },
        "outputId": "559b79db-b741-4f5c-f3ee-1d14726805be"
      },
      "source": [
        "#  Close the image a little to fill in a few small holes in it\n",
        "closingKernel = cv2.getStructuringElement(cv2.MORPH_ELLIPSE, (3,3))\n",
        "\n",
        "# Create a matrix closed that is generated from thresh by a closing\n",
        "# operation using the kernel above.\n",
        "closed = cv2.morphologyEx(thresh, cv2.MORPH_CLOSE, closingKernel)\n",
        "\n",
        "# Use just enough dilate to get some clearly identifiable background\n",
        "dilationKernel = np.ones((3,3), np.uint8)\n",
        "\n",
        "# create a matrix 'bg' from OpenCV's dilate() function\n",
        "# using the dilation kernel above\n",
        "bg = cv2.dilate(closed, dilationKernel, iterations=3)\n",
        "\n",
        "# Now use a distance transform to extract is clearly foreground\n",
        "\n",
        "# Create a matrix 'dist_transform' using OpenCV's distanceTransform\n",
        "# method on the 'closed' matrix.\n",
        "dist_transform = cv2.distanceTransform(closed, cv2.DIST_L2, 5)\n",
        "\n",
        "# Threshold the distance transformation\n",
        "ret, fg = cv2.threshold(dist_transform,0.7*dist_transform.max(), 255, 0)\n",
        "\n",
        "# Now find the unknown region by subtracting one from the other\n",
        "fg = np.uint8(fg)\n",
        "unknown = cv2.subtract(bg, fg)\n",
        "\n",
        "plt.imshow(unknown, cmap='gray')"
      ],
      "execution_count": 57,
      "outputs": [
        {
          "output_type": "execute_result",
          "data": {
            "text/plain": [
              "<matplotlib.image.AxesImage at 0x7f60e8df5ef0>"
            ]
          },
          "metadata": {
            "tags": []
          },
          "execution_count": 57
        },
        {
          "output_type": "display_data",
          "data": {
            "image/png": "[encoded data removed]",
            "text/plain": [
              "<Figure size 432x288 with 1 Axes>"
            ]
          },
          "metadata": {
            "tags": []
          }
        }
      ]
    },
    {
      "cell_type": "markdown",
      "metadata": {
        "id": "mMNDWgMbe2fA",
        "colab_type": "text"
      },
      "source": [
        "At this point your unknown region should be substantially similar to the image on the right here.  I've also included a reference background image and foreground (or object) image in case you lose your way a little.\n",
        "\n",
        "Background                 | Foreground         | Unknown            \n",
        ":-----------------------:|:--------------------------------:|--------------:\n",
        "<img src=\"https://github.com/EmdaloTechnologies/CE6003/blob/master/images/lab2/tomatoes_bg.png?raw=1\" alt=\"Tomatoes BG\" style=\"width: 200px;\"/> | <img src=\"https://github.com/EmdaloTechnologies/CE6003/blob/master/images/lab2/tomatoes_fg.png?raw=1\" alt=\"Tomatoes FG\" style=\"width: 200px;\"/> | <img src=\"https://github.com/EmdaloTechnologies/CE6003/blob/master/images/lab2/tomatoes_unknown.png?raw=1\" alt=\"Tomatoes Unknown\" style=\"width: 200px;\"/>"
      ]
    },
    {
      "cell_type": "markdown",
      "metadata": {
        "id": "yBRKViope2fB",
        "colab_type": "text"
      },
      "source": [
        "Now, we're ready to do a little data manipulation before calling OpenCV's watershed. \n",
        "\n",
        "Right now what we have in marker is a set of pixel values, with 0 representing the background and 255 representing the unknown region and what OpenCV's watershed expects to see in marker is the unknown region set to 0. So, you need to run the following code to prepare for watershed.\n"
      ]
    },
    {
      "cell_type": "code",
      "metadata": {
        "id": "Jicx1k15e2fC",
        "colab_type": "code",
        "colab": {
          "base_uri": "https://localhost:8080/",
          "height": 286
        },
        "outputId": "c42806b7-78c1-4928-e375-f8a1d855e68c"
      },
      "source": [
        "# Marker labelling\n",
        "ret, marker = cv2.connectedComponents(fg)\n",
        "\n",
        "# Add one to all labels so that bg is not  0, but 1\n",
        "marker = marker+1\n",
        "\n",
        "# Now, mark the region of unknown with 0\n",
        "marker[unknown==255] = 0;\n",
        "\n",
        "plt.imshow(marker)\n"
      ],
      "execution_count": 58,
      "outputs": [
        {
          "output_type": "execute_result",
          "data": {
            "text/plain": [
              "<matplotlib.image.AxesImage at 0x7f60e8d5add8>"
            ]
          },
          "metadata": {
            "tags": []
          },
          "execution_count": 58
        },
        {
          "output_type": "display_data",
          "data": {
            "image/png": "[encoded data removed]",
            "text/plain": [
              "<Figure size 432x288 with 1 Axes>"
            ]
          },
          "metadata": {
            "tags": []
          }
        }
      ]
    },
    {
      "cell_type": "markdown",
      "metadata": {
        "id": "MQ0fr9Exe2fF",
        "colab_type": "text"
      },
      "source": [
        "At this stage you should be seeing an image substantively similar to one shown here.\n",
        "\n",
        "<img src=\"https://github.com/EmdaloTechnologies/CE6003/blob/master/images/lab2/tomatoes_marker.png?raw=1\" alt=\"Tomatoes Marker\" align=\"left\" style=\"width: 300px;\"/>\n",
        "\n"
      ]
    },
    {
      "cell_type": "markdown",
      "metadata": {
        "id": "2jskjkkee2fJ",
        "colab_type": "text"
      },
      "source": [
        "Now we can run watershed over our image. Then we'll colour the segmentation boundaries the watershed found in green and save it."
      ]
    },
    {
      "cell_type": "code",
      "metadata": {
        "id": "C2BeEfADe2fK",
        "colab_type": "code",
        "colab": {
          "base_uri": "https://localhost:8080/",
          "height": 286
        },
        "outputId": "0253f29c-8c5f-40ad-a2c3-62d3335de65b"
      },
      "source": [
        "# Now marker is ready.  It is time for last step\n",
        "cv2.watershed(img, marker)\n",
        "\n",
        "# Create a new empty image with the same shape\n",
        "# as the original image.\n",
        "h, w, num_c = img.shape\n",
        "seg = np.zeros((h, w, num_c), np.uint8)\n",
        "\n",
        "# Watershed has replaced the pixel\n",
        "# values in marker with integers representing\n",
        "# the segments it has found in the original\n",
        "# image.\n",
        "# Color in these segments\n",
        "# \n",
        "maxMarker = np.max(marker)\n",
        "minMarker = np.min(marker)\n",
        "\n",
        "colorMap =  [ \\\n",
        "             [0,0,0], \\\n",
        "             [255,255,255], \\\n",
        "             [127,0,0], \\\n",
        "             [0,0,255], \\\n",
        "             [0,255,0], \\\n",
        "             [255,0,0], \\\n",
        "             [255,255,0], \\\n",
        "             [255,0,255], \\\n",
        "             [0,255,255] \\\n",
        "            ]\n",
        "\n",
        "for region in range(minMarker, maxMarker+1):\n",
        "    seg[marker==region] = colorMap[region+1]\n",
        "    \n",
        "plt.imshow(cv2.cvtColor(seg, cv2.COLOR_BGR2RGB))\n"
      ],
      "execution_count": 59,
      "outputs": [
        {
          "output_type": "execute_result",
          "data": {
            "text/plain": [
              "<matplotlib.image.AxesImage at 0x7f60e8d2cf98>"
            ]
          },
          "metadata": {
            "tags": []
          },
          "execution_count": 59
        },
        {
          "output_type": "display_data",
          "data": {
            "image/png": "[encoded data removed]",
            "text/plain": [
              "<Figure size 432x288 with 1 Axes>"
            ]
          },
          "metadata": {
            "tags": []
          }
        }
      ]
    },
    {
      "cell_type": "markdown",
      "metadata": {
        "id": "hUmJ5aupe2fO",
        "colab_type": "text"
      },
      "source": [
        "Now your image should be similar to the one I've shown here.\n",
        "\n",
        "<img src=\"https://github.com/EmdaloTechnologies/CE6003/blob/master/images/lab2/tomatoes_segmented.png?raw=1\" alt=\"Tomatoes Segmented\" align=\"left\" style=\"width: 300px;\"/>\n"
      ]
    },
    {
      "cell_type": "markdown",
      "metadata": {
        "id": "jIwTWFuEe2fQ",
        "colab_type": "text"
      },
      "source": [
        "There are a few items I want to highlight at this stage - most notably we've missed the yellow tomato on top t the right and two of our tomatoes have 'merged'.  \n",
        "\n",
        "We can continue to tweak to improve the segmentation for this image, but its probably more productive to just note, for now, that - with classical algorithms - we can often end up hand-crafting our features.\n",
        "\n"
      ]
    },
    {
      "cell_type": "markdown",
      "metadata": {
        "id": "ys8ShkAde2fR",
        "colab_type": "text"
      },
      "source": [
        "# SLIC\n",
        "\n",
        "We'll be talking about super-pixels at a later stage in this module. We're going to do a short lab with super-pixels here to introduce them.\n",
        "\n",
        "You'll find a more detailed discussion of super-pixels and the SLIC algorithm in the accompanying lesson for this lab.\n",
        "\n",
        "In summary, an isolated pixel does conveys extremely little information about the image it resided within. There would appear to be good benefits from gathering pixels together to gain some semantic information - i.e. to create a 'thing' which is capable of carrying some 'meaning'.\n",
        "\n",
        "If we call out the work of Dr. Xiaofeng Ren's work here super-pizels would ideally contain perceptual meaningfulness - for instance colour, texture, etc (and ideally semantic value). This property leads towards their use in neural networks.\n",
        "\n",
        "As you will see, super-pixels also offer computational efficiency - the reduce the complexity of images from hundreds of thoushands of pixels to hundreds of pixels.\n",
        "\n",
        "Super-pixelation tends to lead to the detection of the boundaries we desire while having a side-effect of over-segmenting and introducing boundaries we don't want.  Pleae keep this insight as you work through this lab and retain it as you work through later lessons.  \n"
      ]
    },
    {
      "cell_type": "markdown",
      "metadata": {
        "id": "hnvNDTDre2fS",
        "colab_type": "text"
      },
      "source": [
        "For this algorithm, you'll need to import the 'segmentation' package"
      ]
    },
    {
      "cell_type": "code",
      "metadata": {
        "id": "2QTtmo2-e2fT",
        "colab_type": "code",
        "colab": {}
      },
      "source": [
        "from skimage import segmentation, color\n",
        "from skimage.io import imread\n",
        "from skimage.io import imsave"
      ],
      "execution_count": 0,
      "outputs": []
    },
    {
      "cell_type": "markdown",
      "metadata": {
        "id": "9sLqdVQOe2fX",
        "colab_type": "text"
      },
      "source": [
        "Now, load your image.  We''re going to use the relatively complex tomatoes image again.  However, this time, please don''t blur or grayscale the image."
      ]
    },
    {
      "cell_type": "code",
      "metadata": {
        "id": "mKdkEuNfe2fX",
        "colab_type": "code",
        "colab": {}
      },
      "source": [
        "# Load an image\n",
        "img = imread(\"/content/CE6003/images/lab2/tomatoes.png\")"
      ],
      "execution_count": 0,
      "outputs": []
    },
    {
      "cell_type": "markdown",
      "metadata": {
        "id": "Un16Po1de2fb",
        "colab_type": "text"
      },
      "source": [
        "Run the SLIC super-pixel algorithm over the image, varying the compactness and the numsegments until the image you produce resembles the image below."
      ]
    },
    {
      "cell_type": "code",
      "metadata": {
        "id": "oCW6d4_Le2fc",
        "colab_type": "code",
        "colab": {}
      },
      "source": [
        "# YOUR CODE HERE\n",
        "# Experiment: Vary numSegments to find a reasonable value for it for this image\n",
        "# Important Note: You are manually selecting features and feature properties \n",
        "# (e.g. size of super-pixels) here\n",
        "#\n",
        "# Exercise: set the variable numSegments to a suitable value\n",
        "# END YOUR CODE HERE"
      ],
      "execution_count": 0,
      "outputs": []
    },
    {
      "cell_type": "code",
      "metadata": {
        "id": "FeNja0QZe2ff",
        "colab_type": "code",
        "colab": {}
      },
      "source": [
        "compactFactor = 20\n",
        "\n",
        "img_segments = segmentation.slic(img, compactness=compactFactor, n_segments=numSegments)\n",
        "superpixels = color.label2rgb(img_segments, img, kind='avg')\n",
        "\n",
        "plt.imshow(superpixels)"
      ],
      "execution_count": 0,
      "outputs": []
    },
    {
      "cell_type": "markdown",
      "metadata": {
        "id": "1-9zSeXxe2fi",
        "colab_type": "text"
      },
      "source": [
        "Now your image should be similar to the one shown here.\n",
        "\n",
        "<img src=\"https://github.com/EmdaloTechnologies/CE6003/blob/master/images/lab2/tomatoes_slic.png?raw=1\" alt=\"Tomatoes Superpixel version\" align=\"left\" style=\"width: 300px;\"/>\n",
        "\n"
      ]
    },
    {
      "cell_type": "markdown",
      "metadata": {
        "id": "Y_E_ZO_je2fj",
        "colab_type": "text"
      },
      "source": [
        "To complete the assignment, you should run the watershed algorithm over the image you created in the last step.\n",
        "\n",
        "Your aim is to produce an image similar to the one below.\n",
        "\n",
        "<img src=\"https://github.com/EmdaloTechnologies/CE6003/blob/master/images/lab2/tomatoes_slic_watershed_seg.png?raw=1\" alt=\"Tomatoes Superpixel Watershed Segmented\" align=\"left\" style=\"width: 300px;\"/>\n"
      ]
    },
    {
      "cell_type": "markdown",
      "metadata": {
        "id": "oVSug-AFe2fk",
        "colab_type": "text"
      },
      "source": [
        "# Conclusion\n",
        "\n",
        "So, that completes the third of the four labs in this lesson.\n",
        "\n",
        "You've learned how to use erosion and dilation\n",
        "You've learned how to use the watershed algorithm to segment an image with touching or overlapping regions.\n",
        "You've been introduced to super-pixels and the SLIC algorithm\n",
        "You've gained an insight that classical techniques involve manually tuning features like super-pixel size for individual images or classes of images and you should be asking yourself \"surely, there's a better way?\"\n"
      ]
    }
  ]
}